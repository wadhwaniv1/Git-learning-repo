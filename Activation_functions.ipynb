{
  "nbformat": 4,
  "nbformat_minor": 0,
  "metadata": {
    "colab": {
      "name": "Untitled1.ipynb",
      "provenance": [],
      "authorship_tag": "ABX9TyMGrY6Z/7nremaGKoqqmfdr",
      "include_colab_link": true
    },
    "kernelspec": {
      "name": "python3",
      "display_name": "Python 3"
    }
  },
  "cells": [
    {
      "cell_type": "markdown",
      "metadata": {
        "id": "view-in-github",
        "colab_type": "text"
      },
      "source": [
        "<a href=\"https://colab.research.google.com/github/wadhwaniv1/ML-Learning-repo/blob/master/Activation_functions.ipynb\" target=\"_parent\"><img src=\"https://colab.research.google.com/assets/colab-badge.svg\" alt=\"Open In Colab\"/></a>"
      ]
    },
    {
      "cell_type": "code",
      "metadata": {
        "id": "y836PCJgPcWX"
      },
      "source": [
        "import tensorflow as tf\n",
        "from tensorflow import keras\n",
        "import matplotlib.pyplot as plt\n",
        "%matplotlib inline\n",
        "import numpy as np"
      ],
      "execution_count": 6,
      "outputs": []
    },
    {
      "cell_type": "code",
      "metadata": {
        "id": "fe0OS0zqyG2y"
      },
      "source": [
        "import math\n",
        "#Sigmoid activation function\n",
        "def sigmoid(x):\n",
        "  return 1/(1+math.exp(-x)) "
      ],
      "execution_count": 7,
      "outputs": []
    },
    {
      "cell_type": "code",
      "metadata": {
        "colab": {
          "base_uri": "https://localhost:8080/"
        },
        "id": "7bZRhw3O9HJF",
        "outputId": "41b91aa8-d44e-46a9-e4e3-d1be41ea8fa9"
      },
      "source": [
        "print(sigmoid(100))\n",
        "print(sigmoid(1))\n",
        "print(sigmoid(-69))"
      ],
      "execution_count": 10,
      "outputs": [
        {
          "output_type": "stream",
          "text": [
            "1.0\n",
            "0.7310585786300049\n",
            "1.0806392777072785e-30\n"
          ],
          "name": "stdout"
        }
      ]
    },
    {
      "cell_type": "code",
      "metadata": {
        "id": "OFCRB--H-jms"
      },
      "source": [
        "#tanh activation function'\n",
        "def tanh(x):\n",
        "  return (math.exp(x) - math.exp(-x)) / (math.exp(x) + math.exp(-x))"
      ],
      "execution_count": 11,
      "outputs": []
    },
    {
      "cell_type": "code",
      "metadata": {
        "colab": {
          "base_uri": "https://localhost:8080/"
        },
        "id": "L2NSMMRt-qX0",
        "outputId": "c4fe0f75-c7ef-4078-a729-3d30edbc61c7"
      },
      "source": [
        "tanh(-56)"
      ],
      "execution_count": 12,
      "outputs": [
        {
          "output_type": "execute_result",
          "data": {
            "text/plain": [
              "-1.0"
            ]
          },
          "metadata": {
            "tags": []
          },
          "execution_count": 12
        }
      ]
    },
    {
      "cell_type": "code",
      "metadata": {
        "id": "sViH_yRg-v48"
      },
      "source": [
        "#ReLU function\n",
        "\n",
        "def relu(x):\n",
        "    return max(0,x)\n",
        "\n",
        "#Leaky value function\n",
        "def leaky_relu(x):\n",
        "    return max(0.1*x,x)"
      ],
      "execution_count": 14,
      "outputs": []
    },
    {
      "cell_type": "code",
      "metadata": {
        "colab": {
          "base_uri": "https://localhost:8080/"
        },
        "id": "Jq3LiWtx-zLM",
        "outputId": "cea4b88c-535d-4ed8-cd13-ff7c0c9ac294"
      },
      "source": [
        "leaky_relu(-100)"
      ],
      "execution_count": 15,
      "outputs": [
        {
          "output_type": "execute_result",
          "data": {
            "text/plain": [
              "-10.0"
            ]
          },
          "metadata": {
            "tags": []
          },
          "execution_count": 15
        }
      ]
    }
  ]
}